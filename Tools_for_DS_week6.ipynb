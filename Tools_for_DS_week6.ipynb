{
 "cells": [
  {
   "cell_type": "markdown",
   "id": "07249935-6777-48f3-af6d-852f3fe1c7ec",
   "metadata": {},
   "source": [
    "# Markdown for Jupyter Notebook"
   ]
  },
  {
   "cell_type": "markdown",
   "id": "9b5294b9-326b-483e-87e3-1b4b164ba2fc",
   "metadata": {},
   "source": [
    "## Introduction\n",
    "\n",
    "Welcome to this tutorial on Markdown!"
   ]
  },
  {
   "cell_type": "markdown",
   "id": "ca16db7c-93d3-4d75-b40f-c10f63a25bf1",
   "metadata": {},
   "source": [
    "Here is an ordered list of popular programming languages used in data science:\n",
    "\n",
    "1. Python\n",
    "2. R\n",
    "3. Julia\n",
    "4. SAS\n",
    "5. MATLAB\n",
    "6. Scala\n",
    "7. SQL\n",
    "\n",
    "These languages are widely used for data analysis, statistical modeling, machine learning, and data visualization tasks."
   ]
  },
  {
   "cell_type": "markdown",
   "id": "2f5d0e8e-bfec-46b8-84a8-d92858287974",
   "metadata": {},
   "source": [
    "Here is an ordered list of popular libraries used in data science:\n",
    "\n",
    "1. NumPy\n",
    "2. Pandas\n",
    "3. Matplotlib\n",
    "4. Seaborn\n",
    "5. Scikit-learn\n",
    "6. TensorFlow\n",
    "7. PyTorch\n",
    "8. Keras\n",
    "9. XGBoost\n",
    "\n",
    "These libraries provide essential functionality for data manipulation, analysis, visualization, and machine learning tasks."
   ]
  },
  {
   "cell_type": "markdown",
   "id": "2dc43bc5-9233-4a21-80f5-932e2f1d7b55",
   "metadata": {},
   "source": [
    "## Data Science Tools\n",
    "\n",
    "| Category         | Tools                                           |\n",
    "|------------------|-------------------------------------------------|\n",
    "| Programming      | Python, R, Julia, SAS, MATLAB, Scala            |\n",
    "| Data Manipulation| NumPy, Pandas, dplyr, data.table                |\n",
    "| Data Visualization| Matplotlib, Seaborn, ggplot2, Plotly, Tableau  |\n",
    "| Machine Learning | Scikit-learn, TensorFlow, PyTorch, XGBoost      |\n",
    "| Big Data         | Apache Hadoop, Apache Spark, Apache Flink       |\n",
    "| Database         | SQL, MySQL, PostgreSQL, MongoDB, SQLite         |\n",
    "| Cloud Computing  | Amazon Web Services (AWS), Google Cloud Platform (GCP), Microsoft Azure |\n",
    "| Version Control  | Git, GitHub, GitLab, Bitbucket                  |\n",
    "| Notebooks        | Jupyter Notebook, JupyterLab, Google Colab      |\n",
    "| IDEs             | PyCharm, RStudio, Visual Studio Code (VS Code)  |\n",
    "\n",
    "The table above showcases various tools commonly used in data science across different categories."
   ]
  },
  {
   "cell_type": "markdown",
   "id": "cc0e7587-aaa8-4f9d-9233-6e6003f7478c",
   "metadata": {},
   "source": [
    "### Arithmetic expression Example\n",
    "\n",
    "Let's consider a simple arithmetic expression example."
   ]
  },
  {
   "cell_type": "code",
   "execution_count": 8,
   "id": "f8e1df2c-feb7-428f-90b3-c793f961b108",
   "metadata": {},
   "outputs": [
    {
     "data": {
      "text/plain": [
       "20"
      ]
     },
     "execution_count": 8,
     "metadata": {},
     "output_type": "execute_result"
    }
   ],
   "source": [
    "(7 + 6 - 3) * 2"
   ]
  },
  {
   "cell_type": "markdown",
   "id": "c781b0eb-9efe-45d7-8e24-91d05a21eea7",
   "metadata": {},
   "source": [
    "### Common arithmetic operations"
   ]
  },
  {
   "cell_type": "markdown",
   "id": "385c24db-1056-4272-8560-51a686b08982",
   "metadata": {},
   "source": [
    "1. <b>Addition<b>"
   ]
  },
  {
   "cell_type": "code",
   "execution_count": 9,
   "id": "4fb8c995-c113-4639-b446-7a26a049bf4b",
   "metadata": {},
   "outputs": [
    {
     "data": {
      "text/plain": [
       "14"
      ]
     },
     "execution_count": 9,
     "metadata": {},
     "output_type": "execute_result"
    }
   ],
   "source": [
    "5 + 9"
   ]
  },
  {
   "cell_type": "markdown",
   "id": "a8dd5f0c-9c2f-48cb-81cf-4c2736bb965d",
   "metadata": {},
   "source": [
    "2. <b>Multiplication<b>"
   ]
  },
  {
   "cell_type": "code",
   "execution_count": 11,
   "id": "d5dc26c4-2209-4968-a117-662d1d4e653b",
   "metadata": {},
   "outputs": [
    {
     "data": {
      "text/plain": [
       "45"
      ]
     },
     "execution_count": 11,
     "metadata": {},
     "output_type": "execute_result"
    }
   ],
   "source": [
    "5 * 9"
   ]
  },
  {
   "cell_type": "markdown",
   "id": "825eb6f9-d9a1-41e2-8208-ebe306197dee",
   "metadata": {},
   "source": [
    "### Hours to minutes"
   ]
  },
  {
   "cell_type": "code",
   "execution_count": 14,
   "id": "4b3c86e8-2462-4fc2-b743-11c98c2a9401",
   "metadata": {},
   "outputs": [
    {
     "name": "stdout",
     "output_type": "stream",
     "text": [
      "3 hours is equal to 180 minutes.\n"
     ]
    }
   ],
   "source": [
    "def convert_hours_to_minutes(hours):\n",
    "    minutes = hours * 60\n",
    "    return minutes\n",
    "\n",
    "# Example\n",
    "hours = 3\n",
    "converted_minutes = convert_hours_to_minutes(hours)\n",
    "print(f\"{hours} hours is equal to {converted_minutes} minutes.\")"
   ]
  },
  {
   "cell_type": "markdown",
   "id": "90137b4b-0ab1-4d18-91a6-f224362a8747",
   "metadata": {},
   "source": [
    "## Objectives for Markdown\n",
    "\n",
    "Here are some objectives for learning Markdown:\n",
    "\n",
    "- Understand the basic syntax of Markdown.\n",
    "- Learn how to create headings, introduction, and text formatting (such as bold, italic etc.).\n",
    "- Know how to create lists (both ordered and unordered).\n",
    "- Understand how to create tables for organizing data.\n",
    "- Discover advanced Markdown features, such as task lists, footnotes, and horizontal rules.\n",
    "- Practice using Markdown in Jupyter Notebook and other Markdown-friendly environments.\n",
    "- Gain proficiency in writing clean and well-formatted Markdown documents for effective communication."
   ]
  },
  {
   "cell_type": "markdown",
   "id": "d2f6c90a-3db2-4cfd-a88b-6ebf869dff91",
   "metadata": {},
   "source": [
    "Author name: Mohammad Imteyaz"
   ]
  },
  {
   "cell_type": "code",
   "execution_count": null,
   "id": "0564f542-0819-4ef4-83c8-007e04494005",
   "metadata": {},
   "outputs": [],
   "source": []
  }
 ],
 "metadata": {
  "kernelspec": {
   "display_name": "Python 3",
   "language": "python",
   "name": "python3"
  },
  "language_info": {
   "codemirror_mode": {
    "name": "ipython",
    "version": 3
   },
   "file_extension": ".py",
   "mimetype": "text/x-python",
   "name": "python",
   "nbconvert_exporter": "python",
   "pygments_lexer": "ipython3",
   "version": "3.9.2"
  }
 },
 "nbformat": 4,
 "nbformat_minor": 5
}
